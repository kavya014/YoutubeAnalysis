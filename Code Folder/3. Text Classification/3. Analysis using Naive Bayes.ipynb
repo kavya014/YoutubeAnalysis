{
 "cells": [
  {
   "cell_type": "code",
   "execution_count": 1,
   "metadata": {},
   "outputs": [],
   "source": [
    "import numpy as np\n",
    "import pandas as pd\n",
    "import matplotlib.pyplot as plt\n",
    "import seaborn as sns\n",
    "sns.set()\n",
    "\n",
    "import nltk"
   ]
  },
  {
   "cell_type": "code",
   "execution_count": 2,
   "metadata": {},
   "outputs": [
    {
     "data": {
      "text/html": [
       "<div>\n",
       "<style scoped>\n",
       "    .dataframe tbody tr th:only-of-type {\n",
       "        vertical-align: middle;\n",
       "    }\n",
       "\n",
       "    .dataframe tbody tr th {\n",
       "        vertical-align: top;\n",
       "    }\n",
       "\n",
       "    .dataframe thead th {\n",
       "        text-align: right;\n",
       "    }\n",
       "</style>\n",
       "<table border=\"1\" class=\"dataframe\">\n",
       "  <thead>\n",
       "    <tr style=\"text-align: right;\">\n",
       "      <th></th>\n",
       "      <th>video_id</th>\n",
       "      <th>trending_date</th>\n",
       "      <th>title</th>\n",
       "      <th>channel_title</th>\n",
       "      <th>publish_date</th>\n",
       "      <th>category_id</th>\n",
       "      <th>publish_time</th>\n",
       "      <th>tags</th>\n",
       "      <th>views</th>\n",
       "      <th>likes</th>\n",
       "      <th>dislikes</th>\n",
       "      <th>comment_count</th>\n",
       "      <th>thumbnail_link</th>\n",
       "      <th>comments_disabled</th>\n",
       "      <th>ratings_disabled</th>\n",
       "      <th>video_error_or_removed</th>\n",
       "      <th>description</th>\n",
       "      <th>category_name</th>\n",
       "      <th>region</th>\n",
       "    </tr>\n",
       "  </thead>\n",
       "  <tbody>\n",
       "    <tr>\n",
       "      <th>0</th>\n",
       "      <td>aaOB-ErYq6Y</td>\n",
       "      <td>2017-11-14</td>\n",
       "      <td>Waymo's fully self-driving cars are here</td>\n",
       "      <td>Waymo</td>\n",
       "      <td>2017-11-07</td>\n",
       "      <td>28</td>\n",
       "      <td>16:03:12</td>\n",
       "      <td>self-driving car|\"waymo\"|\"self-driving\"|\"drive...</td>\n",
       "      <td>665232</td>\n",
       "      <td>6485</td>\n",
       "      <td>714</td>\n",
       "      <td>2497</td>\n",
       "      <td>https://i.ytimg.com/vi/aaOB-ErYq6Y/default.jpg</td>\n",
       "      <td>False</td>\n",
       "      <td>False</td>\n",
       "      <td>False</td>\n",
       "      <td>Waymo, which started as the Google self-drivin...</td>\n",
       "      <td>Science &amp; Technology</td>\n",
       "      <td>Great Britan</td>\n",
       "    </tr>\n",
       "    <tr>\n",
       "      <th>1</th>\n",
       "      <td>XPrHD-7jjUs</td>\n",
       "      <td>2018-02-12</td>\n",
       "      <td>This Hidden 300 Foot Stretch Of The Berlin Wal...</td>\n",
       "      <td>VICE News</td>\n",
       "      <td>2018-02-05</td>\n",
       "      <td>25</td>\n",
       "      <td>17:15:48</td>\n",
       "      <td>300 foot|\"VICE News Tonight\"|\"VICE News\"|\"Berl...</td>\n",
       "      <td>52637</td>\n",
       "      <td>1005</td>\n",
       "      <td>51</td>\n",
       "      <td>132</td>\n",
       "      <td>https://i.ytimg.com/vi/XPrHD-7jjUs/default.jpg</td>\n",
       "      <td>False</td>\n",
       "      <td>False</td>\n",
       "      <td>False</td>\n",
       "      <td>The Berlin Wall was the ultimate symbol of the...</td>\n",
       "      <td>News &amp; Politics</td>\n",
       "      <td>Great Britan</td>\n",
       "    </tr>\n",
       "    <tr>\n",
       "      <th>2</th>\n",
       "      <td>UOgNUOKYXiA</td>\n",
       "      <td>2018-05-13</td>\n",
       "      <td>Durga | Full Ep 1068 | 11th May 2018 | Odia Se...</td>\n",
       "      <td>Tarang TV</td>\n",
       "      <td>2018-05-12</td>\n",
       "      <td>24</td>\n",
       "      <td>06:00:01</td>\n",
       "      <td>tarang|\"tarang tv\"|\"tarang tv online\"|\"tarang ...</td>\n",
       "      <td>87291</td>\n",
       "      <td>340</td>\n",
       "      <td>74</td>\n",
       "      <td>31</td>\n",
       "      <td>https://i.ytimg.com/vi/UOgNUOKYXiA/default.jpg</td>\n",
       "      <td>False</td>\n",
       "      <td>False</td>\n",
       "      <td>False</td>\n",
       "      <td>Durga: Story of a revengeful daughter who ente...</td>\n",
       "      <td>Entertainment</td>\n",
       "      <td>India</td>\n",
       "    </tr>\n",
       "    <tr>\n",
       "      <th>3</th>\n",
       "      <td>W1LO7Zk_38o</td>\n",
       "      <td>2018-02-01</td>\n",
       "      <td>ÐÐ«Ð¡ÐÐÐÐÐÐ ÐÐÐ®Ð¡ Â«ÐÐÐ ÐÐÐÐ¦Ð...</td>\n",
       "      <td>Sasha Sotnik</td>\n",
       "      <td>2018-01-29</td>\n",
       "      <td>25</td>\n",
       "      <td>16:00:05</td>\n",
       "      <td>Ð¶Ð¸Ð»ÑÐµ|\"Ð²ÑÑÐµÐ»ÐµÐ½Ð¸Ðµ\"|\"Ð°Ð²Ð°ÑÐ¸Ð¹Ð...</td>\n",
       "      <td>139389</td>\n",
       "      <td>11135</td>\n",
       "      <td>954</td>\n",
       "      <td>2903</td>\n",
       "      <td>https://i.ytimg.com/vi/W1LO7Zk_38o/default.jpg</td>\n",
       "      <td>False</td>\n",
       "      <td>False</td>\n",
       "      <td>False</td>\n",
       "      <td>ÐÑÐ°Ð¶Ð´Ð°Ð½Ðµ Ð Ð¾ÑÑÐ¸Ð¸ Ð¿ÑÐ¾Ð´Ð¾Ð»Ð¶Ð°...</td>\n",
       "      <td>News &amp; Politics</td>\n",
       "      <td>Russia</td>\n",
       "    </tr>\n",
       "    <tr>\n",
       "      <th>4</th>\n",
       "      <td>BmEvz7tkoks</td>\n",
       "      <td>2018-01-14</td>\n",
       "      <td>Amlo canta Las MaÃ±anitas a su esposa, por su ...</td>\n",
       "      <td>Viral Pancho</td>\n",
       "      <td>2018-01-13</td>\n",
       "      <td>27</td>\n",
       "      <td>23:36:07</td>\n",
       "      <td>amlo|\"pena nieto\"|\"elecciones 2018\"|\"politica ...</td>\n",
       "      <td>57778</td>\n",
       "      <td>3689</td>\n",
       "      <td>69</td>\n",
       "      <td>691</td>\n",
       "      <td>https://i.ytimg.com/vi/BmEvz7tkoks/default.jpg</td>\n",
       "      <td>False</td>\n",
       "      <td>False</td>\n",
       "      <td>False</td>\n",
       "      <td>Mexico va a votar por amlo por las propuestas ...</td>\n",
       "      <td>Education</td>\n",
       "      <td>Mexico</td>\n",
       "    </tr>\n",
       "  </tbody>\n",
       "</table>\n",
       "</div>"
      ],
      "text/plain": [
       "      video_id trending_date  \\\n",
       "0  aaOB-ErYq6Y    2017-11-14   \n",
       "1  XPrHD-7jjUs    2018-02-12   \n",
       "2  UOgNUOKYXiA    2018-05-13   \n",
       "3  W1LO7Zk_38o    2018-02-01   \n",
       "4  BmEvz7tkoks    2018-01-14   \n",
       "\n",
       "                                               title channel_title  \\\n",
       "0           Waymo's fully self-driving cars are here         Waymo   \n",
       "1  This Hidden 300 Foot Stretch Of The Berlin Wal...     VICE News   \n",
       "2  Durga | Full Ep 1068 | 11th May 2018 | Odia Se...     Tarang TV   \n",
       "3  ÐÐ«Ð¡ÐÐÐÐÐÐ ÐÐÐ®Ð¡ Â«ÐÐÐ ÐÐÐÐ¦Ð...  Sasha Sotnik   \n",
       "4  Amlo canta Las MaÃ±anitas a su esposa, por su ...  Viral Pancho   \n",
       "\n",
       "  publish_date  category_id publish_time  \\\n",
       "0   2017-11-07           28     16:03:12   \n",
       "1   2018-02-05           25     17:15:48   \n",
       "2   2018-05-12           24     06:00:01   \n",
       "3   2018-01-29           25     16:00:05   \n",
       "4   2018-01-13           27     23:36:07   \n",
       "\n",
       "                                                tags   views  likes  dislikes  \\\n",
       "0  self-driving car|\"waymo\"|\"self-driving\"|\"drive...  665232   6485       714   \n",
       "1  300 foot|\"VICE News Tonight\"|\"VICE News\"|\"Berl...   52637   1005        51   \n",
       "2  tarang|\"tarang tv\"|\"tarang tv online\"|\"tarang ...   87291    340        74   \n",
       "3  Ð¶Ð¸Ð»ÑÐµ|\"Ð²ÑÑÐµÐ»ÐµÐ½Ð¸Ðµ\"|\"Ð°Ð²Ð°ÑÐ¸Ð¹Ð...  139389  11135       954   \n",
       "4  amlo|\"pena nieto\"|\"elecciones 2018\"|\"politica ...   57778   3689        69   \n",
       "\n",
       "   comment_count                                  thumbnail_link  \\\n",
       "0           2497  https://i.ytimg.com/vi/aaOB-ErYq6Y/default.jpg   \n",
       "1            132  https://i.ytimg.com/vi/XPrHD-7jjUs/default.jpg   \n",
       "2             31  https://i.ytimg.com/vi/UOgNUOKYXiA/default.jpg   \n",
       "3           2903  https://i.ytimg.com/vi/W1LO7Zk_38o/default.jpg   \n",
       "4            691  https://i.ytimg.com/vi/BmEvz7tkoks/default.jpg   \n",
       "\n",
       "   comments_disabled  ratings_disabled  video_error_or_removed  \\\n",
       "0              False             False                   False   \n",
       "1              False             False                   False   \n",
       "2              False             False                   False   \n",
       "3              False             False                   False   \n",
       "4              False             False                   False   \n",
       "\n",
       "                                         description         category_name  \\\n",
       "0  Waymo, which started as the Google self-drivin...  Science & Technology   \n",
       "1  The Berlin Wall was the ultimate symbol of the...       News & Politics   \n",
       "2  Durga: Story of a revengeful daughter who ente...         Entertainment   \n",
       "3  ÐÑÐ°Ð¶Ð´Ð°Ð½Ðµ Ð Ð¾ÑÑÐ¸Ð¸ Ð¿ÑÐ¾Ð´Ð¾Ð»Ð¶Ð°...       News & Politics   \n",
       "4  Mexico va a votar por amlo por las propuestas ...             Education   \n",
       "\n",
       "         region  \n",
       "0  Great Britan  \n",
       "1  Great Britan  \n",
       "2         India  \n",
       "3        Russia  \n",
       "4        Mexico  "
      ]
     },
     "execution_count": 2,
     "metadata": {},
     "output_type": "execute_result"
    }
   ],
   "source": [
    "data = pd.read_csv('YoutubeData.csv')\n",
    "data.head()"
   ]
  },
  {
   "cell_type": "code",
   "execution_count": 16,
   "metadata": {},
   "outputs": [
    {
     "data": {
      "text/plain": [
       "array(['Great Britan', 'India', 'Russia', 'Mexico', 'Japan',\n",
       "       'United States', 'France', 'Denmark', 'South Korea', 'Canada'],\n",
       "      dtype=object)"
      ]
     },
     "execution_count": 16,
     "metadata": {},
     "output_type": "execute_result"
    }
   ],
   "source": [
    "#All distinct regions\n",
    "countries = data['region'].unique()\n",
    "countries"
   ]
  },
  {
   "cell_type": "code",
   "execution_count": 20,
   "metadata": {},
   "outputs": [],
   "source": [
    "size=[]\n",
    "for i in countries:\n",
    "    select = data.loc[data['region']==i] #Selects all rows of a particular country\n",
    "    total_rows = len(select.index)\n",
    "    size.append(total_rows)"
   ]
  },
  {
   "cell_type": "code",
   "execution_count": 10,
   "metadata": {},
   "outputs": [],
   "source": [
    "accuracy1=[]\n",
    "accuracy2=[]\n",
    "precision_data1 = []\n",
    "recall_data1 = []\n",
    "precision_data2 = []\n",
    "recall_data2 = []"
   ]
  },
  {
   "cell_type": "markdown",
   "metadata": {},
   "source": [
    "## Feature Generation using BoW"
   ]
  },
  {
   "cell_type": "code",
   "execution_count": 11,
   "metadata": {},
   "outputs": [],
   "source": [
    "def BoW(c):\n",
    "    \n",
    "    testsize=c/100\n",
    "    \n",
    "    from sklearn.feature_extraction.text import CountVectorizer\n",
    "    from nltk.tokenize import RegexpTokenizer\n",
    "    #tokenizer to remove unwanted elements from out data like symbols and numbers\n",
    "    token = RegexpTokenizer(r'[a-zA-Z0-9]+')\n",
    "    cv = CountVectorizer(lowercase=True,stop_words='english',ngram_range = (1,1),tokenizer = token.tokenize)    \n",
    "    text_counts= cv.fit_transform(data['title'])\n",
    "    \n",
    "    #Splitting Data\n",
    "    from sklearn.model_selection import train_test_split\n",
    "    X_train, X_test, y_train, y_test = train_test_split(\n",
    "        text_counts, data['region'], test_size=testsize, random_state=1)\n",
    "    \n",
    "    from sklearn.naive_bayes import MultinomialNB\n",
    "    #Import scikit-learn metrics module for accuracy calculation\n",
    "    from sklearn import metrics\n",
    "    # Model Generation Using Multinomial Naive Bayes\n",
    "    clf = MultinomialNB().fit(X_train, y_train)\n",
    "    predicted= clf.predict(X_test) \n",
    "    \n",
    "    #Accuracy\n",
    "    print(\"MultinomialNB Accuracy for Configuration \" + str(100-c) + \":\" + str(c) + \" is \"\n",
    "          + str( round(metrics.accuracy_score(y_test, predicted)*100 , 2) )+ \"%\")\n",
    "    accuracy1.append(metrics.accuracy_score(y_test, predicted)*100)\n",
    "    \n",
    "    # Precision\n",
    "    from sklearn.metrics import precision_score\n",
    "    precision_data1.append(precision_score(y_test, predicted,average=None)*100)\n",
    "    \n",
    "    # Recall\n",
    "    from sklearn.metrics import recall_score\n",
    "    recall_data1.append(recall_score(y_test, predicted,average=None)*100)"
   ]
  },
  {
   "cell_type": "markdown",
   "metadata": {},
   "source": [
    "## Accuracy"
   ]
  },
  {
   "cell_type": "code",
   "execution_count": 12,
   "metadata": {},
   "outputs": [
    {
     "name": "stdout",
     "output_type": "stream",
     "text": [
      "MultinomialNB Accuracy for Configuration 50:50 is 62.85%\n",
      "MultinomialNB Accuracy for Configuration 60:40 is 63.62%\n",
      "MultinomialNB Accuracy for Configuration 70:30 is 63.61%\n",
      "MultinomialNB Accuracy for Configuration 80:20 is 63.95%\n",
      "MultinomialNB Accuracy for Configuration 90:10 is 64.51%\n"
     ]
    }
   ],
   "source": [
    "config =[ [50,50] , [60,40], [70,30], [80,20] , [90,10] ]\n",
    "for i in config:\n",
    "    BoW(i[1])"
   ]
  },
  {
   "cell_type": "code",
   "execution_count": 13,
   "metadata": {},
   "outputs": [
    {
     "data": {
      "image/png": "[encoded data removed]",
      "text/plain": [
       "<Figure size 432x288 with 1 Axes>"
      ]
     },
     "metadata": {
      "needs_background": "light"
     },
     "output_type": "display_data"
    }
   ],
   "source": [
    "K = [1,2,3,4,5]\n",
    "plt.plot(K,accuracy1)\n",
    "plt.xlabel('Configuration' , fontsize=20)\n",
    "plt.ylabel('Accuracy',fontsize=20)\n",
    "plt.title('Bag of Words',fontsize=30)\n",
    "plt.xticks(K,config)\n",
    "plt.show()"
   ]
  },
  {
   "cell_type": "markdown",
   "metadata": {},
   "source": [
    "## Precision , Recall at Split 90:10"
   ]
  },
  {
   "cell_type": "code",
   "execution_count": 21,
   "metadata": {},
   "outputs": [],
   "source": [
    "summary = pd.DataFrame()\n",
    "summary['Class'] = countries\n",
    "summary['Instances'] = size\n",
    "summary['Precision'] = precision_data1[4]\n",
    "summary['Recall'] = recall_data1[4]"
   ]
  },
  {
   "cell_type": "code",
   "execution_count": 22,
   "metadata": {},
   "outputs": [
    {
     "data": {
      "text/html": [
       "<div>\n",
       "<style scoped>\n",
       "    .dataframe tbody tr th:only-of-type {\n",
       "        vertical-align: middle;\n",
       "    }\n",
       "\n",
       "    .dataframe tbody tr th {\n",
       "        vertical-align: top;\n",
       "    }\n",
       "\n",
       "    .dataframe thead th {\n",
       "        text-align: right;\n",
       "    }\n",
       "</style>\n",
       "<table border=\"1\" class=\"dataframe\">\n",
       "  <thead>\n",
       "    <tr style=\"text-align: right;\">\n",
       "      <th></th>\n",
       "      <th>Class</th>\n",
       "      <th>Instances</th>\n",
       "      <th>Precision</th>\n",
       "      <th>Recall</th>\n",
       "    </tr>\n",
       "  </thead>\n",
       "  <tbody>\n",
       "    <tr>\n",
       "      <th>0</th>\n",
       "      <td>Great Britan</td>\n",
       "      <td>38916</td>\n",
       "      <td>25.830654</td>\n",
       "      <td>47.405950</td>\n",
       "    </tr>\n",
       "    <tr>\n",
       "      <th>1</th>\n",
       "      <td>India</td>\n",
       "      <td>37352</td>\n",
       "      <td>89.166941</td>\n",
       "      <td>66.437684</td>\n",
       "    </tr>\n",
       "    <tr>\n",
       "      <th>2</th>\n",
       "      <td>Russia</td>\n",
       "      <td>40739</td>\n",
       "      <td>86.848204</td>\n",
       "      <td>74.171202</td>\n",
       "    </tr>\n",
       "    <tr>\n",
       "      <th>3</th>\n",
       "      <td>Mexico</td>\n",
       "      <td>40451</td>\n",
       "      <td>59.805207</td>\n",
       "      <td>80.590611</td>\n",
       "    </tr>\n",
       "    <tr>\n",
       "      <th>4</th>\n",
       "      <td>Japan</td>\n",
       "      <td>20523</td>\n",
       "      <td>86.029017</td>\n",
       "      <td>85.982814</td>\n",
       "    </tr>\n",
       "    <tr>\n",
       "      <th>5</th>\n",
       "      <td>United States</td>\n",
       "      <td>40949</td>\n",
       "      <td>85.335413</td>\n",
       "      <td>26.853216</td>\n",
       "    </tr>\n",
       "    <tr>\n",
       "      <th>6</th>\n",
       "      <td>France</td>\n",
       "      <td>40724</td>\n",
       "      <td>94.210113</td>\n",
       "      <td>89.497262</td>\n",
       "    </tr>\n",
       "    <tr>\n",
       "      <th>7</th>\n",
       "      <td>Denmark</td>\n",
       "      <td>40840</td>\n",
       "      <td>59.722692</td>\n",
       "      <td>43.691242</td>\n",
       "    </tr>\n",
       "    <tr>\n",
       "      <th>8</th>\n",
       "      <td>South Korea</td>\n",
       "      <td>34567</td>\n",
       "      <td>61.914716</td>\n",
       "      <td>42.447693</td>\n",
       "    </tr>\n",
       "    <tr>\n",
       "      <th>9</th>\n",
       "      <td>Canada</td>\n",
       "      <td>40881</td>\n",
       "      <td>59.363217</td>\n",
       "      <td>68.487192</td>\n",
       "    </tr>\n",
       "  </tbody>\n",
       "</table>\n",
       "</div>"
      ],
      "text/plain": [
       "           Class  Instances  Precision     Recall\n",
       "0   Great Britan      38916  25.830654  47.405950\n",
       "1          India      37352  89.166941  66.437684\n",
       "2         Russia      40739  86.848204  74.171202\n",
       "3         Mexico      40451  59.805207  80.590611\n",
       "4          Japan      20523  86.029017  85.982814\n",
       "5  United States      40949  85.335413  26.853216\n",
       "6         France      40724  94.210113  89.497262\n",
       "7        Denmark      40840  59.722692  43.691242\n",
       "8    South Korea      34567  61.914716  42.447693\n",
       "9         Canada      40881  59.363217  68.487192"
      ]
     },
     "execution_count": 22,
     "metadata": {},
     "output_type": "execute_result"
    }
   ],
   "source": [
    "summary"
   ]
  },
  {
   "cell_type": "markdown",
   "metadata": {},
   "source": [
    "## Feature Generation using TF-IDF"
   ]
  },
  {
   "cell_type": "code",
   "execution_count": 23,
   "metadata": {},
   "outputs": [],
   "source": [
    "def TF_IDF(c):\n",
    "    \n",
    "    testsize=c/100\n",
    "    \n",
    "    from sklearn.feature_extraction.text import TfidfVectorizer\n",
    "    tf=TfidfVectorizer()\n",
    "    text_tf= tf.fit_transform(data['title'])\n",
    "    \n",
    "    from sklearn.model_selection import train_test_split\n",
    "    X_train, X_test, y_train, y_test = train_test_split(\n",
    "        text_tf, data['region'], test_size=testsize, random_state=123)\n",
    "    \n",
    "    from sklearn.naive_bayes import MultinomialNB\n",
    "    from sklearn import metrics\n",
    "    # Model Generation Using Multinomial Naive Bayes\n",
    "    clf = MultinomialNB().fit(X_train, y_train)\n",
    "    predicted= clf.predict(X_test)\n",
    "    \n",
    "    #Accuracy\n",
    "    print(\"MultinomialNB Accuracy for Configuration \" + str(100-c) + \":\" + str(c) + \" is \"\n",
    "          + str( round(metrics.accuracy_score(y_test, predicted)*100 , 2) )+ \"%\")\n",
    "    accuracy2.append(metrics.accuracy_score(y_test, predicted)*100)\n",
    "    \n",
    "    # Precision\n",
    "    from sklearn.metrics import precision_score\n",
    "    precision_data2.append(precision_score(y_test, predicted,average=None)*100)\n",
    "    \n",
    "    # Recall\n",
    "    from sklearn.metrics import recall_score\n",
    "    recall_data2.append(recall_score(y_test, predicted,average=None)*100)"
   ]
  },
  {
   "cell_type": "markdown",
   "metadata": {},
   "source": [
    "## Accuracy"
   ]
  },
  {
   "cell_type": "code",
   "execution_count": 24,
   "metadata": {},
   "outputs": [
    {
     "name": "stdout",
     "output_type": "stream",
     "text": [
      "MultinomialNB Accuracy for Configuration 50:50 is 78.8%\n",
      "MultinomialNB Accuracy for Configuration 60:40 is 78.94%\n",
      "MultinomialNB Accuracy for Configuration 70:30 is 79.16%\n",
      "MultinomialNB Accuracy for Configuration 80:20 is 79.38%\n",
      "MultinomialNB Accuracy for Configuration 90:10 is 79.43%\n"
     ]
    }
   ],
   "source": [
    "for i in config:\n",
    "    TF_IDF(i[1])"
   ]
  },
  {
   "cell_type": "code",
   "execution_count": 25,
   "metadata": {},
   "outputs": [
    {
     "data": {
      "image/png": "[encoded data removed]",
      "text/plain": [
       "<Figure size 432x288 with 1 Axes>"
      ]
     },
     "metadata": {
      "needs_background": "light"
     },
     "output_type": "display_data"
    }
   ],
   "source": [
    "K = [1,2,3,4,5]\n",
    "plt.plot(K,accuracy2)\n",
    "plt.xlabel('Configuration' , fontsize=20)\n",
    "plt.ylabel('Accuracy',fontsize=20)\n",
    "plt.title('TF-IDF',fontsize=30)\n",
    "plt.xticks(K,config)\n",
    "plt.show()"
   ]
  },
  {
   "cell_type": "markdown",
   "metadata": {},
   "source": [
    "## Precision , Recall at Split 90:10 "
   ]
  },
  {
   "cell_type": "code",
   "execution_count": 27,
   "metadata": {},
   "outputs": [
    {
     "data": {
      "text/html": [
       "<div>\n",
       "<style scoped>\n",
       "    .dataframe tbody tr th:only-of-type {\n",
       "        vertical-align: middle;\n",
       "    }\n",
       "\n",
       "    .dataframe tbody tr th {\n",
       "        vertical-align: top;\n",
       "    }\n",
       "\n",
       "    .dataframe thead th {\n",
       "        text-align: right;\n",
       "    }\n",
       "</style>\n",
       "<table border=\"1\" class=\"dataframe\">\n",
       "  <thead>\n",
       "    <tr style=\"text-align: right;\">\n",
       "      <th></th>\n",
       "      <th>Class</th>\n",
       "      <th>Instances</th>\n",
       "      <th>Precision</th>\n",
       "      <th>Recall</th>\n",
       "    </tr>\n",
       "  </thead>\n",
       "  <tbody>\n",
       "    <tr>\n",
       "      <th>0</th>\n",
       "      <td>Great Britan</td>\n",
       "      <td>38916</td>\n",
       "      <td>49.519474</td>\n",
       "      <td>48.238482</td>\n",
       "    </tr>\n",
       "    <tr>\n",
       "      <th>1</th>\n",
       "      <td>India</td>\n",
       "      <td>37352</td>\n",
       "      <td>92.312442</td>\n",
       "      <td>73.500492</td>\n",
       "    </tr>\n",
       "    <tr>\n",
       "      <th>2</th>\n",
       "      <td>Russia</td>\n",
       "      <td>40739</td>\n",
       "      <td>86.627310</td>\n",
       "      <td>81.877729</td>\n",
       "    </tr>\n",
       "    <tr>\n",
       "      <th>3</th>\n",
       "      <td>Mexico</td>\n",
       "      <td>40451</td>\n",
       "      <td>62.661448</td>\n",
       "      <td>79.930105</td>\n",
       "    </tr>\n",
       "    <tr>\n",
       "      <th>4</th>\n",
       "      <td>Japan</td>\n",
       "      <td>20523</td>\n",
       "      <td>90.145396</td>\n",
       "      <td>90.854817</td>\n",
       "    </tr>\n",
       "    <tr>\n",
       "      <th>5</th>\n",
       "      <td>United States</td>\n",
       "      <td>40949</td>\n",
       "      <td>99.129962</td>\n",
       "      <td>87.266635</td>\n",
       "    </tr>\n",
       "    <tr>\n",
       "      <th>6</th>\n",
       "      <td>France</td>\n",
       "      <td>40724</td>\n",
       "      <td>94.860186</td>\n",
       "      <td>90.705373</td>\n",
       "    </tr>\n",
       "    <tr>\n",
       "      <th>7</th>\n",
       "      <td>Denmark</td>\n",
       "      <td>40840</td>\n",
       "      <td>98.504399</td>\n",
       "      <td>82.167319</td>\n",
       "    </tr>\n",
       "    <tr>\n",
       "      <th>8</th>\n",
       "      <td>South Korea</td>\n",
       "      <td>34567</td>\n",
       "      <td>96.599691</td>\n",
       "      <td>91.992935</td>\n",
       "    </tr>\n",
       "    <tr>\n",
       "      <th>9</th>\n",
       "      <td>Canada</td>\n",
       "      <td>40881</td>\n",
       "      <td>57.284586</td>\n",
       "      <td>75.060183</td>\n",
       "    </tr>\n",
       "  </tbody>\n",
       "</table>\n",
       "</div>"
      ],
      "text/plain": [
       "           Class  Instances  Precision     Recall\n",
       "0   Great Britan      38916  49.519474  48.238482\n",
       "1          India      37352  92.312442  73.500492\n",
       "2         Russia      40739  86.627310  81.877729\n",
       "3         Mexico      40451  62.661448  79.930105\n",
       "4          Japan      20523  90.145396  90.854817\n",
       "5  United States      40949  99.129962  87.266635\n",
       "6         France      40724  94.860186  90.705373\n",
       "7        Denmark      40840  98.504399  82.167319\n",
       "8    South Korea      34567  96.599691  91.992935\n",
       "9         Canada      40881  57.284586  75.060183"
      ]
     },
     "execution_count": 27,
     "metadata": {},
     "output_type": "execute_result"
    }
   ],
   "source": [
    "summary = pd.DataFrame()\n",
    "summary['Class'] = countries\n",
    "summary['Instances'] = size\n",
    "summary['Precision'] = precision_data2[4]\n",
    "summary['Recall'] = recall_data2[4]\n",
    "summary"
   ]
  },
  {
   "cell_type": "markdown",
   "metadata": {},
   "source": [
    "# Comparison b/w TF-IDF and BoW Models"
   ]
  },
  {
   "cell_type": "code",
   "execution_count": 26,
   "metadata": {},
   "outputs": [
    {
     "data": {
      "image/png": "[encoded data removed]",
      "text/plain": [
       "<Figure size 432x288 with 1 Axes>"
      ]
     },
     "metadata": {
      "needs_background": "light"
     },
     "output_type": "display_data"
    }
   ],
   "source": [
    "plt.plot(K,accuracy1, label = \"Bag of Words\")\n",
    "plt.plot(K,accuracy2,label= \"TF-IDF\")\n",
    "plt.xlabel('Configuration' , fontsize=20)\n",
    "plt.ylabel('Accuracy',fontsize=20)\n",
    "plt.title(\"Comparison\",fontsize=30)\n",
    "plt.xticks(K,config)\n",
    "plt.legend()\n",
    "plt.show()"
   ]
  },
  {
   "cell_type": "code",
   "execution_count": null,
   "metadata": {},
   "outputs": [],
   "source": [
    "#TF-IDF has higher accuracy than BoW"
   ]
  },
  {
   "cell_type": "code",
   "execution_count": null,
   "metadata": {},
   "outputs": [],
   "source": []
  }
 ],
 "metadata": {
  "kernelspec": {
   "display_name": "Python 3",
   "language": "python",
   "name": "python3"
  },
  "language_info": {
   "codemirror_mode": {
    "name": "ipython",
    "version": 3
   },
   "file_extension": ".py",
   "mimetype": "text/x-python",
   "name": "python",
   "nbconvert_exporter": "python",
   "pygments_lexer": "ipython3",
   "version": "3.7.3"
  }
 },
 "nbformat": 4,
 "nbformat_minor": 2
}
